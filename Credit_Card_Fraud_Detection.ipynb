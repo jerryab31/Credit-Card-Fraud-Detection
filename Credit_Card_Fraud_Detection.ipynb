{
  "nbformat": 4,
  "nbformat_minor": 0,
  "metadata": {
    "colab": {
      "provenance": []
    },
    "kernelspec": {
      "name": "python3",
      "display_name": "Python 3"
    },
    "language_info": {
      "name": "python"
    }
  },
  "cells": [
    {
      "cell_type": "code",
      "execution_count": 1,
      "metadata": {
        "colab": {
          "base_uri": "https://localhost:8080/"
        },
        "id": "grFOkOU_UdK9",
        "outputId": "73ef3e33-e3bc-4466-9cbf-7d528e947f61"
      },
      "outputs": [
        {
          "output_type": "stream",
          "name": "stdout",
          "text": [
            "\u001b[2K   \u001b[90m━━━━━━━━━━━━━━━━━━━━━━━━━━━━━━━━━━━━━━━━\u001b[0m \u001b[32m395.9/395.9 kB\u001b[0m \u001b[31m1.4 MB/s\u001b[0m eta \u001b[36m0:00:00\u001b[0m\n",
            "\u001b[2K   \u001b[90m━━━━━━━━━━━━━━━━━━━━━━━━━━━━━━━━━━━━━━━━\u001b[0m \u001b[32m247.0/247.0 kB\u001b[0m \u001b[31m7.2 MB/s\u001b[0m eta \u001b[36m0:00:00\u001b[0m\n",
            "\u001b[?25h"
          ]
        }
      ],
      "source": [
        "!pip install pandas numpy matplotlib seaborn scikit-learn lightgbm shap joblib optuna imbalanced-learn --quiet"
      ]
    },
    {
      "cell_type": "code",
      "source": [
        "#basic packages\n",
        "import pandas as pd\n",
        "import numpy as np\n",
        "import matplotlib.pyplot as plt\n",
        "import seaborn as sns\n",
        "\n",
        "#modeling and preprocessing\n",
        "from sklearn.model_selection import train_test_split, StratifiedKFold, cross_val_predict,cross_val_score\n",
        "from sklearn.metrics import roc_auc_score,roc_curve,classification_report,confusion_matrix\n",
        "from lightgbm import LGBMClassifier\n",
        "\n",
        "from sklearn.preprocessing import StandardScaler\n",
        "from sklearn.impute import SimpleImputer\n",
        "from sklearn.pipeline import Pipeline\n",
        "from sklearn.compose import ColumnTransformer\n",
        "from imblearn.over_sampling import SMOTE\n",
        "from imblearn.pipeline import Pipeline as ImbPipeline\n",
        "\n",
        "import optuna\n",
        "import shap\n",
        "\n",
        "#saving model\n",
        "import joblib\n",
        "\n",
        "#warnings\n",
        "import warnings\n",
        "warnings.filterwarnings('ignore')\n"
      ],
      "metadata": {
        "id": "f1JH7RtqVY5e"
      },
      "execution_count": 5,
      "outputs": []
    },
    {
      "cell_type": "code",
      "source": [
        "#upload json key\n",
        "from google.colab import files\n",
        "files.upload()\n",
        "\n",
        "#clear output\n",
        "from IPython.display import clear_output\n",
        "clear_output()\n",
        "print(\"Upload successful and output cleared.\")\n",
        "\n",
        "#save file to /.kaggle with correct permission\n",
        "!mkdir -p ~/.kaggle\n",
        "!cp kaggle.json ~/.kaggle/\n",
        "!chmod 600 ~/.kaggle/kaggle.json"
      ],
      "metadata": {
        "colab": {
          "base_uri": "https://localhost:8080/",
          "height": 73
        },
        "id": "SFtZJkmZWwyL",
        "outputId": "797dc93a-9b43-4a27-ed88-b9b5b1b4e778"
      },
      "execution_count": 7,
      "outputs": [
        {
          "output_type": "stream",
          "name": "stdout",
          "text": [
            "Upload successful and output cleared.\n"
          ]
        }
      ]
    },
    {
      "cell_type": "code",
      "source": [
        "# Download the dataset and unzip\n",
        "!kaggle datasets download -d mlg-ulb/creditcardfraud\n",
        "!unzip creditcardfraud.zip"
      ],
      "metadata": {
        "colab": {
          "base_uri": "https://localhost:8080/"
        },
        "id": "USE1iT7rZQmf",
        "outputId": "dea74f4e-c106-4e6c-f764-f3d68bd674c7"
      },
      "execution_count": 8,
      "outputs": [
        {
          "output_type": "stream",
          "name": "stdout",
          "text": [
            "Dataset URL: https://www.kaggle.com/datasets/mlg-ulb/creditcardfraud\n",
            "License(s): DbCL-1.0\n",
            "Downloading creditcardfraud.zip to /content\n",
            "  0% 0.00/66.0M [00:00<?, ?B/s]\n",
            "100% 66.0M/66.0M [00:00<00:00, 1.95GB/s]\n",
            "Archive:  creditcardfraud.zip\n",
            "  inflating: creditcard.csv          \n"
          ]
        }
      ]
    },
    {
      "cell_type": "code",
      "source": [
        "#load dataset\n",
        "df = pd.read_csv('/content/creditcard.csv')\n",
        "df.head()"
      ],
      "metadata": {
        "colab": {
          "base_uri": "https://localhost:8080/",
          "height": 226
        },
        "id": "Kr6bUzAkZsDw",
        "outputId": "f429ebfe-6796-442c-98d8-454e624734a8"
      },
      "execution_count": 10,
      "outputs": [
        {
          "output_type": "execute_result",
          "data": {
            "text/plain": [
              "   Time        V1        V2        V3  ...       V27       V28  Amount  Class\n",
              "0   0.0 -1.359807 -0.072781  2.536347  ...  0.133558 -0.021053  149.62      0\n",
              "1   0.0  1.191857  0.266151  0.166480  ... -0.008983  0.014724    2.69      0\n",
              "2   1.0 -1.358354 -1.340163  1.773209  ... -0.055353 -0.059752  378.66      0\n",
              "3   1.0 -0.966272 -0.185226  1.792993  ...  0.062723  0.061458  123.50      0\n",
              "4   2.0 -1.158233  0.877737  1.548718  ...  0.219422  0.215153   69.99      0\n",
              "\n",
              "[5 rows x 31 columns]"
            ],
            "text/html": [
              "\n",
              "  <div id=\"df-43052645-2231-4bd5-9105-d5b86dd3545b\" class=\"colab-df-container\">\n",
              "    <div>\n",
              "<style scoped>\n",
              "    .dataframe tbody tr th:only-of-type {\n",
              "        vertical-align: middle;\n",
              "    }\n",
              "\n",
              "    .dataframe tbody tr th {\n",
              "        vertical-align: top;\n",
              "    }\n",
              "\n",
              "    .dataframe thead th {\n",
              "        text-align: right;\n",
              "    }\n",
              "</style>\n",
              "<table border=\"1\" class=\"dataframe\">\n",
              "  <thead>\n",
              "    <tr style=\"text-align: right;\">\n",
              "      <th></th>\n",
              "      <th>Time</th>\n",
              "      <th>V1</th>\n",
              "      <th>V2</th>\n",
              "      <th>V3</th>\n",
              "      <th>V4</th>\n",
              "      <th>V5</th>\n",
              "      <th>V6</th>\n",
              "      <th>V7</th>\n",
              "      <th>V8</th>\n",
              "      <th>V9</th>\n",
              "      <th>V10</th>\n",
              "      <th>V11</th>\n",
              "      <th>V12</th>\n",
              "      <th>V13</th>\n",
              "      <th>V14</th>\n",
              "      <th>V15</th>\n",
              "      <th>V16</th>\n",
              "      <th>V17</th>\n",
              "      <th>V18</th>\n",
              "      <th>V19</th>\n",
              "      <th>V20</th>\n",
              "      <th>V21</th>\n",
              "      <th>V22</th>\n",
              "      <th>V23</th>\n",
              "      <th>V24</th>\n",
              "      <th>V25</th>\n",
              "      <th>V26</th>\n",
              "      <th>V27</th>\n",
              "      <th>V28</th>\n",
              "      <th>Amount</th>\n",
              "      <th>Class</th>\n",
              "    </tr>\n",
              "  </thead>\n",
              "  <tbody>\n",
              "    <tr>\n",
              "      <th>0</th>\n",
              "      <td>0.0</td>\n",
              "      <td>-1.359807</td>\n",
              "      <td>-0.072781</td>\n",
              "      <td>2.536347</td>\n",
              "      <td>1.378155</td>\n",
              "      <td>-0.338321</td>\n",
              "      <td>0.462388</td>\n",
              "      <td>0.239599</td>\n",
              "      <td>0.098698</td>\n",
              "      <td>0.363787</td>\n",
              "      <td>0.090794</td>\n",
              "      <td>-0.551600</td>\n",
              "      <td>-0.617801</td>\n",
              "      <td>-0.991390</td>\n",
              "      <td>-0.311169</td>\n",
              "      <td>1.468177</td>\n",
              "      <td>-0.470401</td>\n",
              "      <td>0.207971</td>\n",
              "      <td>0.025791</td>\n",
              "      <td>0.403993</td>\n",
              "      <td>0.251412</td>\n",
              "      <td>-0.018307</td>\n",
              "      <td>0.277838</td>\n",
              "      <td>-0.110474</td>\n",
              "      <td>0.066928</td>\n",
              "      <td>0.128539</td>\n",
              "      <td>-0.189115</td>\n",
              "      <td>0.133558</td>\n",
              "      <td>-0.021053</td>\n",
              "      <td>149.62</td>\n",
              "      <td>0</td>\n",
              "    </tr>\n",
              "    <tr>\n",
              "      <th>1</th>\n",
              "      <td>0.0</td>\n",
              "      <td>1.191857</td>\n",
              "      <td>0.266151</td>\n",
              "      <td>0.166480</td>\n",
              "      <td>0.448154</td>\n",
              "      <td>0.060018</td>\n",
              "      <td>-0.082361</td>\n",
              "      <td>-0.078803</td>\n",
              "      <td>0.085102</td>\n",
              "      <td>-0.255425</td>\n",
              "      <td>-0.166974</td>\n",
              "      <td>1.612727</td>\n",
              "      <td>1.065235</td>\n",
              "      <td>0.489095</td>\n",
              "      <td>-0.143772</td>\n",
              "      <td>0.635558</td>\n",
              "      <td>0.463917</td>\n",
              "      <td>-0.114805</td>\n",
              "      <td>-0.183361</td>\n",
              "      <td>-0.145783</td>\n",
              "      <td>-0.069083</td>\n",
              "      <td>-0.225775</td>\n",
              "      <td>-0.638672</td>\n",
              "      <td>0.101288</td>\n",
              "      <td>-0.339846</td>\n",
              "      <td>0.167170</td>\n",
              "      <td>0.125895</td>\n",
              "      <td>-0.008983</td>\n",
              "      <td>0.014724</td>\n",
              "      <td>2.69</td>\n",
              "      <td>0</td>\n",
              "    </tr>\n",
              "    <tr>\n",
              "      <th>2</th>\n",
              "      <td>1.0</td>\n",
              "      <td>-1.358354</td>\n",
              "      <td>-1.340163</td>\n",
              "      <td>1.773209</td>\n",
              "      <td>0.379780</td>\n",
              "      <td>-0.503198</td>\n",
              "      <td>1.800499</td>\n",
              "      <td>0.791461</td>\n",
              "      <td>0.247676</td>\n",
              "      <td>-1.514654</td>\n",
              "      <td>0.207643</td>\n",
              "      <td>0.624501</td>\n",
              "      <td>0.066084</td>\n",
              "      <td>0.717293</td>\n",
              "      <td>-0.165946</td>\n",
              "      <td>2.345865</td>\n",
              "      <td>-2.890083</td>\n",
              "      <td>1.109969</td>\n",
              "      <td>-0.121359</td>\n",
              "      <td>-2.261857</td>\n",
              "      <td>0.524980</td>\n",
              "      <td>0.247998</td>\n",
              "      <td>0.771679</td>\n",
              "      <td>0.909412</td>\n",
              "      <td>-0.689281</td>\n",
              "      <td>-0.327642</td>\n",
              "      <td>-0.139097</td>\n",
              "      <td>-0.055353</td>\n",
              "      <td>-0.059752</td>\n",
              "      <td>378.66</td>\n",
              "      <td>0</td>\n",
              "    </tr>\n",
              "    <tr>\n",
              "      <th>3</th>\n",
              "      <td>1.0</td>\n",
              "      <td>-0.966272</td>\n",
              "      <td>-0.185226</td>\n",
              "      <td>1.792993</td>\n",
              "      <td>-0.863291</td>\n",
              "      <td>-0.010309</td>\n",
              "      <td>1.247203</td>\n",
              "      <td>0.237609</td>\n",
              "      <td>0.377436</td>\n",
              "      <td>-1.387024</td>\n",
              "      <td>-0.054952</td>\n",
              "      <td>-0.226487</td>\n",
              "      <td>0.178228</td>\n",
              "      <td>0.507757</td>\n",
              "      <td>-0.287924</td>\n",
              "      <td>-0.631418</td>\n",
              "      <td>-1.059647</td>\n",
              "      <td>-0.684093</td>\n",
              "      <td>1.965775</td>\n",
              "      <td>-1.232622</td>\n",
              "      <td>-0.208038</td>\n",
              "      <td>-0.108300</td>\n",
              "      <td>0.005274</td>\n",
              "      <td>-0.190321</td>\n",
              "      <td>-1.175575</td>\n",
              "      <td>0.647376</td>\n",
              "      <td>-0.221929</td>\n",
              "      <td>0.062723</td>\n",
              "      <td>0.061458</td>\n",
              "      <td>123.50</td>\n",
              "      <td>0</td>\n",
              "    </tr>\n",
              "    <tr>\n",
              "      <th>4</th>\n",
              "      <td>2.0</td>\n",
              "      <td>-1.158233</td>\n",
              "      <td>0.877737</td>\n",
              "      <td>1.548718</td>\n",
              "      <td>0.403034</td>\n",
              "      <td>-0.407193</td>\n",
              "      <td>0.095921</td>\n",
              "      <td>0.592941</td>\n",
              "      <td>-0.270533</td>\n",
              "      <td>0.817739</td>\n",
              "      <td>0.753074</td>\n",
              "      <td>-0.822843</td>\n",
              "      <td>0.538196</td>\n",
              "      <td>1.345852</td>\n",
              "      <td>-1.119670</td>\n",
              "      <td>0.175121</td>\n",
              "      <td>-0.451449</td>\n",
              "      <td>-0.237033</td>\n",
              "      <td>-0.038195</td>\n",
              "      <td>0.803487</td>\n",
              "      <td>0.408542</td>\n",
              "      <td>-0.009431</td>\n",
              "      <td>0.798278</td>\n",
              "      <td>-0.137458</td>\n",
              "      <td>0.141267</td>\n",
              "      <td>-0.206010</td>\n",
              "      <td>0.502292</td>\n",
              "      <td>0.219422</td>\n",
              "      <td>0.215153</td>\n",
              "      <td>69.99</td>\n",
              "      <td>0</td>\n",
              "    </tr>\n",
              "  </tbody>\n",
              "</table>\n",
              "</div>\n",
              "    <div class=\"colab-df-buttons\">\n",
              "\n",
              "  <div class=\"colab-df-container\">\n",
              "    <button class=\"colab-df-convert\" onclick=\"convertToInteractive('df-43052645-2231-4bd5-9105-d5b86dd3545b')\"\n",
              "            title=\"Convert this dataframe to an interactive table.\"\n",
              "            style=\"display:none;\">\n",
              "\n",
              "  <svg xmlns=\"http://www.w3.org/2000/svg\" height=\"24px\" viewBox=\"0 -960 960 960\">\n",
              "    <path d=\"M120-120v-720h720v720H120Zm60-500h600v-160H180v160Zm220 220h160v-160H400v160Zm0 220h160v-160H400v160ZM180-400h160v-160H180v160Zm440 0h160v-160H620v160ZM180-180h160v-160H180v160Zm440 0h160v-160H620v160Z\"/>\n",
              "  </svg>\n",
              "    </button>\n",
              "\n",
              "  <style>\n",
              "    .colab-df-container {\n",
              "      display:flex;\n",
              "      gap: 12px;\n",
              "    }\n",
              "\n",
              "    .colab-df-convert {\n",
              "      background-color: #E8F0FE;\n",
              "      border: none;\n",
              "      border-radius: 50%;\n",
              "      cursor: pointer;\n",
              "      display: none;\n",
              "      fill: #1967D2;\n",
              "      height: 32px;\n",
              "      padding: 0 0 0 0;\n",
              "      width: 32px;\n",
              "    }\n",
              "\n",
              "    .colab-df-convert:hover {\n",
              "      background-color: #E2EBFA;\n",
              "      box-shadow: 0px 1px 2px rgba(60, 64, 67, 0.3), 0px 1px 3px 1px rgba(60, 64, 67, 0.15);\n",
              "      fill: #174EA6;\n",
              "    }\n",
              "\n",
              "    .colab-df-buttons div {\n",
              "      margin-bottom: 4px;\n",
              "    }\n",
              "\n",
              "    [theme=dark] .colab-df-convert {\n",
              "      background-color: #3B4455;\n",
              "      fill: #D2E3FC;\n",
              "    }\n",
              "\n",
              "    [theme=dark] .colab-df-convert:hover {\n",
              "      background-color: #434B5C;\n",
              "      box-shadow: 0px 1px 3px 1px rgba(0, 0, 0, 0.15);\n",
              "      filter: drop-shadow(0px 1px 2px rgba(0, 0, 0, 0.3));\n",
              "      fill: #FFFFFF;\n",
              "    }\n",
              "  </style>\n",
              "\n",
              "    <script>\n",
              "      const buttonEl =\n",
              "        document.querySelector('#df-43052645-2231-4bd5-9105-d5b86dd3545b button.colab-df-convert');\n",
              "      buttonEl.style.display =\n",
              "        google.colab.kernel.accessAllowed ? 'block' : 'none';\n",
              "\n",
              "      async function convertToInteractive(key) {\n",
              "        const element = document.querySelector('#df-43052645-2231-4bd5-9105-d5b86dd3545b');\n",
              "        const dataTable =\n",
              "          await google.colab.kernel.invokeFunction('convertToInteractive',\n",
              "                                                    [key], {});\n",
              "        if (!dataTable) return;\n",
              "\n",
              "        const docLinkHtml = 'Like what you see? Visit the ' +\n",
              "          '<a target=\"_blank\" href=https://colab.research.google.com/notebooks/data_table.ipynb>data table notebook</a>'\n",
              "          + ' to learn more about interactive tables.';\n",
              "        element.innerHTML = '';\n",
              "        dataTable['output_type'] = 'display_data';\n",
              "        await google.colab.output.renderOutput(dataTable, element);\n",
              "        const docLink = document.createElement('div');\n",
              "        docLink.innerHTML = docLinkHtml;\n",
              "        element.appendChild(docLink);\n",
              "      }\n",
              "    </script>\n",
              "  </div>\n",
              "\n",
              "\n",
              "    <div id=\"df-5d851f76-eb26-47df-8aed-796db74a5fb7\">\n",
              "      <button class=\"colab-df-quickchart\" onclick=\"quickchart('df-5d851f76-eb26-47df-8aed-796db74a5fb7')\"\n",
              "                title=\"Suggest charts\"\n",
              "                style=\"display:none;\">\n",
              "\n",
              "<svg xmlns=\"http://www.w3.org/2000/svg\" height=\"24px\"viewBox=\"0 0 24 24\"\n",
              "     width=\"24px\">\n",
              "    <g>\n",
              "        <path d=\"M19 3H5c-1.1 0-2 .9-2 2v14c0 1.1.9 2 2 2h14c1.1 0 2-.9 2-2V5c0-1.1-.9-2-2-2zM9 17H7v-7h2v7zm4 0h-2V7h2v10zm4 0h-2v-4h2v4z\"/>\n",
              "    </g>\n",
              "</svg>\n",
              "      </button>\n",
              "\n",
              "<style>\n",
              "  .colab-df-quickchart {\n",
              "      --bg-color: #E8F0FE;\n",
              "      --fill-color: #1967D2;\n",
              "      --hover-bg-color: #E2EBFA;\n",
              "      --hover-fill-color: #174EA6;\n",
              "      --disabled-fill-color: #AAA;\n",
              "      --disabled-bg-color: #DDD;\n",
              "  }\n",
              "\n",
              "  [theme=dark] .colab-df-quickchart {\n",
              "      --bg-color: #3B4455;\n",
              "      --fill-color: #D2E3FC;\n",
              "      --hover-bg-color: #434B5C;\n",
              "      --hover-fill-color: #FFFFFF;\n",
              "      --disabled-bg-color: #3B4455;\n",
              "      --disabled-fill-color: #666;\n",
              "  }\n",
              "\n",
              "  .colab-df-quickchart {\n",
              "    background-color: var(--bg-color);\n",
              "    border: none;\n",
              "    border-radius: 50%;\n",
              "    cursor: pointer;\n",
              "    display: none;\n",
              "    fill: var(--fill-color);\n",
              "    height: 32px;\n",
              "    padding: 0;\n",
              "    width: 32px;\n",
              "  }\n",
              "\n",
              "  .colab-df-quickchart:hover {\n",
              "    background-color: var(--hover-bg-color);\n",
              "    box-shadow: 0 1px 2px rgba(60, 64, 67, 0.3), 0 1px 3px 1px rgba(60, 64, 67, 0.15);\n",
              "    fill: var(--button-hover-fill-color);\n",
              "  }\n",
              "\n",
              "  .colab-df-quickchart-complete:disabled,\n",
              "  .colab-df-quickchart-complete:disabled:hover {\n",
              "    background-color: var(--disabled-bg-color);\n",
              "    fill: var(--disabled-fill-color);\n",
              "    box-shadow: none;\n",
              "  }\n",
              "\n",
              "  .colab-df-spinner {\n",
              "    border: 2px solid var(--fill-color);\n",
              "    border-color: transparent;\n",
              "    border-bottom-color: var(--fill-color);\n",
              "    animation:\n",
              "      spin 1s steps(1) infinite;\n",
              "  }\n",
              "\n",
              "  @keyframes spin {\n",
              "    0% {\n",
              "      border-color: transparent;\n",
              "      border-bottom-color: var(--fill-color);\n",
              "      border-left-color: var(--fill-color);\n",
              "    }\n",
              "    20% {\n",
              "      border-color: transparent;\n",
              "      border-left-color: var(--fill-color);\n",
              "      border-top-color: var(--fill-color);\n",
              "    }\n",
              "    30% {\n",
              "      border-color: transparent;\n",
              "      border-left-color: var(--fill-color);\n",
              "      border-top-color: var(--fill-color);\n",
              "      border-right-color: var(--fill-color);\n",
              "    }\n",
              "    40% {\n",
              "      border-color: transparent;\n",
              "      border-right-color: var(--fill-color);\n",
              "      border-top-color: var(--fill-color);\n",
              "    }\n",
              "    60% {\n",
              "      border-color: transparent;\n",
              "      border-right-color: var(--fill-color);\n",
              "    }\n",
              "    80% {\n",
              "      border-color: transparent;\n",
              "      border-right-color: var(--fill-color);\n",
              "      border-bottom-color: var(--fill-color);\n",
              "    }\n",
              "    90% {\n",
              "      border-color: transparent;\n",
              "      border-bottom-color: var(--fill-color);\n",
              "    }\n",
              "  }\n",
              "</style>\n",
              "\n",
              "      <script>\n",
              "        async function quickchart(key) {\n",
              "          const quickchartButtonEl =\n",
              "            document.querySelector('#' + key + ' button');\n",
              "          quickchartButtonEl.disabled = true;  // To prevent multiple clicks.\n",
              "          quickchartButtonEl.classList.add('colab-df-spinner');\n",
              "          try {\n",
              "            const charts = await google.colab.kernel.invokeFunction(\n",
              "                'suggestCharts', [key], {});\n",
              "          } catch (error) {\n",
              "            console.error('Error during call to suggestCharts:', error);\n",
              "          }\n",
              "          quickchartButtonEl.classList.remove('colab-df-spinner');\n",
              "          quickchartButtonEl.classList.add('colab-df-quickchart-complete');\n",
              "        }\n",
              "        (() => {\n",
              "          let quickchartButtonEl =\n",
              "            document.querySelector('#df-5d851f76-eb26-47df-8aed-796db74a5fb7 button');\n",
              "          quickchartButtonEl.style.display =\n",
              "            google.colab.kernel.accessAllowed ? 'block' : 'none';\n",
              "        })();\n",
              "      </script>\n",
              "    </div>\n",
              "\n",
              "    </div>\n",
              "  </div>\n"
            ],
            "application/vnd.google.colaboratory.intrinsic+json": {
              "type": "dataframe",
              "variable_name": "df"
            }
          },
          "metadata": {},
          "execution_count": 10
        }
      ]
    },
    {
      "cell_type": "code",
      "source": [
        "#download file to laptop\n",
        "df.to_csv(\"fraud_output.csv\", index=False)\n",
        "\n",
        "from google.colab import files\n",
        "files.download(\"fraud_output.csv\")"
      ],
      "metadata": {
        "colab": {
          "base_uri": "https://localhost:8080/",
          "height": 17
        },
        "id": "AVBsJTczaj0C",
        "outputId": "26b83daa-c000-4dbf-c30e-93e62a9d8042"
      },
      "execution_count": 11,
      "outputs": [
        {
          "output_type": "display_data",
          "data": {
            "text/plain": [
              "<IPython.core.display.Javascript object>"
            ],
            "application/javascript": [
              "\n",
              "    async function download(id, filename, size) {\n",
              "      if (!google.colab.kernel.accessAllowed) {\n",
              "        return;\n",
              "      }\n",
              "      const div = document.createElement('div');\n",
              "      const label = document.createElement('label');\n",
              "      label.textContent = `Downloading \"${filename}\": `;\n",
              "      div.appendChild(label);\n",
              "      const progress = document.createElement('progress');\n",
              "      progress.max = size;\n",
              "      div.appendChild(progress);\n",
              "      document.body.appendChild(div);\n",
              "\n",
              "      const buffers = [];\n",
              "      let downloaded = 0;\n",
              "\n",
              "      const channel = await google.colab.kernel.comms.open(id);\n",
              "      // Send a message to notify the kernel that we're ready.\n",
              "      channel.send({})\n",
              "\n",
              "      for await (const message of channel.messages) {\n",
              "        // Send a message to notify the kernel that we're ready.\n",
              "        channel.send({})\n",
              "        if (message.buffers) {\n",
              "          for (const buffer of message.buffers) {\n",
              "            buffers.push(buffer);\n",
              "            downloaded += buffer.byteLength;\n",
              "            progress.value = downloaded;\n",
              "          }\n",
              "        }\n",
              "      }\n",
              "      const blob = new Blob(buffers, {type: 'application/binary'});\n",
              "      const a = document.createElement('a');\n",
              "      a.href = window.URL.createObjectURL(blob);\n",
              "      a.download = filename;\n",
              "      div.appendChild(a);\n",
              "      a.click();\n",
              "      div.remove();\n",
              "    }\n",
              "  "
            ]
          },
          "metadata": {}
        },
        {
          "output_type": "display_data",
          "data": {
            "text/plain": [
              "<IPython.core.display.Javascript object>"
            ],
            "application/javascript": [
              "download(\"download_4abed48a-d537-47dd-9457-10ded413c921\", \"fraud_output.csv\", 150817597)"
            ]
          },
          "metadata": {}
        }
      ]
    },
    {
      "cell_type": "code",
      "source": [
        "#data overview\n",
        "print(f\"shape: \",df.shape)\n",
        "print(df['Class'].value_counts())\n",
        "print('\\nPercentage fraud: {:.4f}%'.format(100*df['Class'].mean()))\n",
        "df.info()"
      ],
      "metadata": {
        "colab": {
          "base_uri": "https://localhost:8080/"
        },
        "id": "MHGxpsRja1ty",
        "outputId": "de28b593-85c8-46f6-cdc0-0e3835e358ee"
      },
      "execution_count": 12,
      "outputs": [
        {
          "output_type": "stream",
          "name": "stdout",
          "text": [
            "shape:  (284807, 31)\n",
            "Class\n",
            "0    284315\n",
            "1       492\n",
            "Name: count, dtype: int64\n",
            "\n",
            "Percentage fraud: 0.1727%\n",
            "<class 'pandas.core.frame.DataFrame'>\n",
            "RangeIndex: 284807 entries, 0 to 284806\n",
            "Data columns (total 31 columns):\n",
            " #   Column  Non-Null Count   Dtype  \n",
            "---  ------  --------------   -----  \n",
            " 0   Time    284807 non-null  float64\n",
            " 1   V1      284807 non-null  float64\n",
            " 2   V2      284807 non-null  float64\n",
            " 3   V3      284807 non-null  float64\n",
            " 4   V4      284807 non-null  float64\n",
            " 5   V5      284807 non-null  float64\n",
            " 6   V6      284807 non-null  float64\n",
            " 7   V7      284807 non-null  float64\n",
            " 8   V8      284807 non-null  float64\n",
            " 9   V9      284807 non-null  float64\n",
            " 10  V10     284807 non-null  float64\n",
            " 11  V11     284807 non-null  float64\n",
            " 12  V12     284807 non-null  float64\n",
            " 13  V13     284807 non-null  float64\n",
            " 14  V14     284807 non-null  float64\n",
            " 15  V15     284807 non-null  float64\n",
            " 16  V16     284807 non-null  float64\n",
            " 17  V17     284807 non-null  float64\n",
            " 18  V18     284807 non-null  float64\n",
            " 19  V19     284807 non-null  float64\n",
            " 20  V20     284807 non-null  float64\n",
            " 21  V21     284807 non-null  float64\n",
            " 22  V22     284807 non-null  float64\n",
            " 23  V23     284807 non-null  float64\n",
            " 24  V24     284807 non-null  float64\n",
            " 25  V25     284807 non-null  float64\n",
            " 26  V26     284807 non-null  float64\n",
            " 27  V27     284807 non-null  float64\n",
            " 28  V28     284807 non-null  float64\n",
            " 29  Amount  284807 non-null  float64\n",
            " 30  Class   284807 non-null  int64  \n",
            "dtypes: float64(30), int64(1)\n",
            "memory usage: 67.4 MB\n"
          ]
        }
      ]
    },
    {
      "cell_type": "code",
      "source": [
        "#EDA - class distribution\n",
        "sns.countplot(x='Class',data=df)\n",
        "plt.title('Class Distribution')\n",
        "plt.show()\n"
      ],
      "metadata": {
        "colab": {
          "base_uri": "https://localhost:8080/",
          "height": 472
        },
        "id": "LyLoOaaWb_9K",
        "outputId": "d043c610-2c2b-40a1-83c3-a9eb64faab25"
      },
      "execution_count": 13,
      "outputs": [
        {
          "output_type": "display_data",
          "data": {
            "text/plain": [
              "<Figure size 640x480 with 1 Axes>"
            ],
            "image/png": "[encoded data removed]"
          },
          "metadata": {}
        }
      ]
    },
    {
      "cell_type": "code",
      "source": [
        "#feature distribution\n",
        "sns.histplot(data=df,x='Amount',hue='Class',log_scale=True,bins=100)\n",
        "plt.title('Amount Distribution')\n",
        "plt.show()"
      ],
      "metadata": {
        "colab": {
          "base_uri": "https://localhost:8080/",
          "height": 476
        },
        "id": "wafYDWGccVnQ",
        "outputId": "8ab8ce1c-1c6c-4e07-9e0e-8aeb4e8d5e4f"
      },
      "execution_count": 22,
      "outputs": [
        {
          "output_type": "display_data",
          "data": {
            "text/plain": [
              "<Figure size 640x480 with 1 Axes>"
            ],
            "image/png": "[encoded data removed]"
          },
          "metadata": {}
        }
      ]
    },
    {
      "cell_type": "code",
      "source": [
        "#feature selection\n",
        "X = df.drop(['Time','Class'],axis=1)\n",
        "y = df['Class']"
      ],
      "metadata": {
        "id": "LsmTB_WGdX3l"
      },
      "execution_count": 23,
      "outputs": []
    },
    {
      "cell_type": "code",
      "source": [
        "#Train-Test Split (stratified)\n",
        "X_train, X_test, y_train, y_test = train_test_split(X, y, test_size=0.2, random_state=42,stratify=y)"
      ],
      "metadata": {
        "id": "zhi8BB1LfUq3"
      },
      "execution_count": 24,
      "outputs": []
    },
    {
      "cell_type": "code",
      "source": [
        "#Preprocessing Pipeline\n",
        "num_features = X_train.columns\n",
        "\n",
        "\n",
        "#Pipeline\n",
        "num_pipeline = Pipeline(steps=[\n",
        "    ('imputer', SimpleImputer(strategy='mean')),\n",
        "    ('scaler', StandardScaler())\n",
        "])\n",
        "\n",
        "preprocessor = ColumnTransformer(transformers=[\n",
        "    ('num', num_pipeline, num_features)\n",
        "])"
      ],
      "metadata": {
        "id": "V0rzcxR_fapA"
      },
      "execution_count": 31,
      "outputs": []
    },
    {
      "cell_type": "code",
      "source": [
        "#Modeling Pipeline with SMOTE\n",
        "pipeline= ImbPipeline(steps=[\n",
        "    ('preprocessor',preprocessor),\n",
        "    ('smote',SMOTE(random_state=42)),\n",
        "    ('model',LGBMClassifier(n_jobs=1,random_state=42))\n",
        "])"
      ],
      "metadata": {
        "id": "1KcPQPBFgjZD"
      },
      "execution_count": 32,
      "outputs": []
    },
    {
      "cell_type": "code",
      "source": [
        "#Optuna Tuning\n",
        "def objective(trial):\n",
        "  params={\n",
        "      'n_estimators':trial.suggest_int('n_estimators',100,500),\n",
        "      'max_depth':trial.suggest_int('max_depth',3,10),\n",
        "      'learning_rate':trial.suggest_float('learning_rate',0.01,0.4),\n",
        "      'num_leaves':trial.suggest_int('num_leaves',20,300),\n",
        "      'min_child_samples':trial.suggest_int('min_child_samples',10,100),\n",
        "      'subsample':trial.suggest_float('subsample',0.6,1.0),\n",
        "      'colsample_bytree':trial.suggest_float('colsample_bytree',0.6,1.0),\n",
        "      'reg_alpha':trial.suggest_float('reg_alpha',0.0,5.0),\n",
        "      'reg_lambda':trial.suggest_float('reg_lambda',0.0,5.0)\n",
        "  }\n",
        "\n",
        "  clf = ImbPipeline(steps=[\n",
        "      ('preprocessor',preprocessor),\n",
        "      ('smote',SMOTE(random_state=42)),\n",
        "      ('model',LGBMClassifier(**params,n_jobs=1,random_state=42))\n",
        "  ])\n",
        "\n",
        "  #scoring='average_precision'\n",
        "  #Area Under the Precision-Recall Curve (AUPRC) — Kaggle has recommended imbalanced classification problems\n",
        "\n",
        "  skf = StratifiedKFold(n_splits=5,shuffle=True,random_state=42)\n",
        "  score = cross_val_score(clf,X_train,y_train,cv=skf,scoring='average_precision',n_jobs=-1)\n",
        "  return score.mean()"
      ],
      "metadata": {
        "id": "4CBp7DTvg7Ql"
      },
      "execution_count": 33,
      "outputs": []
    },
    {
      "cell_type": "markdown",
      "source": [
        "AUC-ROC can be misleading (it treats both classes equally).\n",
        "\n",
        "AUPRC ('average_precision') focuses more on how well you identify the minority (fraud) class — which is our real interest."
      ],
      "metadata": {
        "id": "uvCTEb9FjSkh"
      }
    },
    {
      "cell_type": "code",
      "source": [
        "#Study\n",
        "study = optuna.create_study(direction='maximize')\n",
        "study.optimize(objective,n_trials=30)\n",
        "best_params = study.best_params\n",
        "print(best_params)"
      ],
      "metadata": {
        "colab": {
          "base_uri": "https://localhost:8080/"
        },
        "id": "_X_TTmZSjJzz",
        "outputId": "0ccde133-bc54-4e19-9607-f523c57a73ea"
      },
      "execution_count": 34,
      "outputs": [
        {
          "output_type": "stream",
          "name": "stderr",
          "text": [
            "[I 2025-07-18 08:08:11,751] A new study created in memory with name: no-name-9d7249fd-cb6d-49e9-ac95-1e820d7e5cc2\n",
            "[I 2025-07-18 08:09:03,295] Trial 0 finished with value: 0.8441930458585283 and parameters: {'n_estimators': 355, 'max_depth': 3, 'learning_rate': 0.19659436983069525, 'num_leaves': 86, 'min_child_samples': 79, 'subsample': 0.8900112435644874, 'colsample_bytree': 0.7727583949778675, 'reg_alpha': 0.07346495424984223, 'reg_lambda': 4.183441926510564}. Best is trial 0 with value: 0.8441930458585283.\n",
            "[I 2025-07-18 08:10:07,909] Trial 1 finished with value: 0.8507525559606804 and parameters: {'n_estimators': 392, 'max_depth': 10, 'learning_rate': 0.31472397402469265, 'num_leaves': 94, 'min_child_samples': 69, 'subsample': 0.6701856726306243, 'colsample_bytree': 0.9261134214049683, 'reg_alpha': 0.199290133344035, 'reg_lambda': 0.6863691262890881}. Best is trial 1 with value: 0.8507525559606804.\n",
            "[I 2025-07-18 08:11:37,264] Trial 2 finished with value: 0.8384791947206054 and parameters: {'n_estimators': 378, 'max_depth': 6, 'learning_rate': 0.03698589808774049, 'num_leaves': 276, 'min_child_samples': 60, 'subsample': 0.9774856473182756, 'colsample_bytree': 0.9322644877873094, 'reg_alpha': 0.6754285831791151, 'reg_lambda': 4.789856520684621}. Best is trial 1 with value: 0.8507525559606804.\n",
            "[I 2025-07-18 08:12:46,937] Trial 3 finished with value: 0.8501601640397421 and parameters: {'n_estimators': 414, 'max_depth': 4, 'learning_rate': 0.22727512181955345, 'num_leaves': 210, 'min_child_samples': 13, 'subsample': 0.7994305116665176, 'colsample_bytree': 0.824855830853496, 'reg_alpha': 2.8003779341355424, 'reg_lambda': 1.811833161199582}. Best is trial 1 with value: 0.8507525559606804.\n",
            "[I 2025-07-18 08:13:26,873] Trial 4 finished with value: 0.8450507502963533 and parameters: {'n_estimators': 114, 'max_depth': 10, 'learning_rate': 0.10488867309750693, 'num_leaves': 172, 'min_child_samples': 43, 'subsample': 0.7790358942711916, 'colsample_bytree': 0.9655408782259028, 'reg_alpha': 4.479161733813294, 'reg_lambda': 0.5107707953592283}. Best is trial 1 with value: 0.8507525559606804.\n",
            "[I 2025-07-18 08:14:20,003] Trial 5 finished with value: 0.8434893800229313 and parameters: {'n_estimators': 414, 'max_depth': 3, 'learning_rate': 0.39509204744778303, 'num_leaves': 222, 'min_child_samples': 56, 'subsample': 0.6837505895901679, 'colsample_bytree': 0.6209027250392033, 'reg_alpha': 1.7240063602724138, 'reg_lambda': 2.6070489717932483}. Best is trial 1 with value: 0.8507525559606804.\n",
            "[I 2025-07-18 08:14:52,231] Trial 6 finished with value: 0.8401923639927515 and parameters: {'n_estimators': 162, 'max_depth': 4, 'learning_rate': 0.2378946675625085, 'num_leaves': 59, 'min_child_samples': 42, 'subsample': 0.6639989291962034, 'colsample_bytree': 0.8361177026345268, 'reg_alpha': 2.871905585115369, 'reg_lambda': 0.7518690234888065}. Best is trial 1 with value: 0.8507525559606804.\n",
            "[I 2025-07-18 08:15:43,200] Trial 7 finished with value: 0.8477076002453631 and parameters: {'n_estimators': 278, 'max_depth': 10, 'learning_rate': 0.24219440216422145, 'num_leaves': 52, 'min_child_samples': 61, 'subsample': 0.8690236280606076, 'colsample_bytree': 0.9273793364183192, 'reg_alpha': 2.4691344567639244, 'reg_lambda': 1.749012901579735}. Best is trial 1 with value: 0.8507525559606804.\n",
            "[I 2025-07-18 08:16:46,776] Trial 8 finished with value: 0.8547235333377922 and parameters: {'n_estimators': 243, 'max_depth': 8, 'learning_rate': 0.3674129121704759, 'num_leaves': 28, 'min_child_samples': 93, 'subsample': 0.9236531440445435, 'colsample_bytree': 0.9949954446463943, 'reg_alpha': 0.1980827475167235, 'reg_lambda': 3.8071470976206183}. Best is trial 8 with value: 0.8547235333377922.\n",
            "[I 2025-07-18 08:17:15,085] Trial 9 finished with value: 0.8274521680756834 and parameters: {'n_estimators': 142, 'max_depth': 4, 'learning_rate': 0.10226336255111476, 'num_leaves': 103, 'min_child_samples': 58, 'subsample': 0.7428656964563233, 'colsample_bytree': 0.8383397984631897, 'reg_alpha': 2.5931756227889236, 'reg_lambda': 3.4527540161273085}. Best is trial 8 with value: 0.8547235333377922.\n",
            "[I 2025-07-18 08:17:56,250] Trial 10 finished with value: 0.8456672293753362 and parameters: {'n_estimators': 240, 'max_depth': 8, 'learning_rate': 0.3805618673566482, 'num_leaves': 29, 'min_child_samples': 85, 'subsample': 0.9765273584447952, 'colsample_bytree': 0.706213463989608, 'reg_alpha': 1.2099652371182812, 'reg_lambda': 3.399183827187718}. Best is trial 8 with value: 0.8547235333377922.\n",
            "[I 2025-07-18 08:19:03,398] Trial 11 finished with value: 0.8472510398522294 and parameters: {'n_estimators': 469, 'max_depth': 8, 'learning_rate': 0.3194145069979843, 'num_leaves': 124, 'min_child_samples': 98, 'subsample': 0.6209257637418164, 'colsample_bytree': 0.9906718344523803, 'reg_alpha': 0.16902224226957596, 'reg_lambda': 0.09101470563998149}. Best is trial 8 with value: 0.8547235333377922.\n",
            "[I 2025-07-18 08:19:50,226] Trial 12 finished with value: 0.8521307875009523 and parameters: {'n_estimators': 200, 'max_depth': 8, 'learning_rate': 0.3173417110630703, 'num_leaves': 20, 'min_child_samples': 80, 'subsample': 0.898697708897556, 'colsample_bytree': 0.8961922051026759, 'reg_alpha': 1.0403131173502893, 'reg_lambda': 1.450654501446694}. Best is trial 8 with value: 0.8547235333377922.\n",
            "[I 2025-07-18 08:20:35,668] Trial 13 finished with value: 0.8543381084704288 and parameters: {'n_estimators': 212, 'max_depth': 8, 'learning_rate': 0.32077148345906115, 'num_leaves': 24, 'min_child_samples': 100, 'subsample': 0.8925430823514974, 'colsample_bytree': 0.8912865549057736, 'reg_alpha': 1.331729957722684, 'reg_lambda': 1.6467286086190769}. Best is trial 8 with value: 0.8547235333377922.\n",
            "[I 2025-07-18 08:21:22,824] Trial 14 finished with value: 0.8507351724510812 and parameters: {'n_estimators': 294, 'max_depth': 7, 'learning_rate': 0.3463760653689958, 'num_leaves': 144, 'min_child_samples': 99, 'subsample': 0.9268058656094846, 'colsample_bytree': 0.8869296290390084, 'reg_alpha': 1.9096295799103524, 'reg_lambda': 2.553845398507965}. Best is trial 8 with value: 0.8547235333377922.\n",
            "[I 2025-07-18 08:22:10,251] Trial 15 finished with value: 0.8478406403255558 and parameters: {'n_estimators': 218, 'max_depth': 6, 'learning_rate': 0.2781807655545253, 'num_leaves': 62, 'min_child_samples': 90, 'subsample': 0.8403774530956745, 'colsample_bytree': 0.9930267658094605, 'reg_alpha': 3.8520326638149505, 'reg_lambda': 3.23201320772105}. Best is trial 8 with value: 0.8547235333377922.\n",
            "[I 2025-07-18 08:23:21,223] Trial 16 finished with value: 0.8534442914965552 and parameters: {'n_estimators': 332, 'max_depth': 9, 'learning_rate': 0.15778613519071621, 'num_leaves': 173, 'min_child_samples': 73, 'subsample': 0.938766034622455, 'colsample_bytree': 0.7618475799301627, 'reg_alpha': 1.520121647259316, 'reg_lambda': 4.091563852008709}. Best is trial 8 with value: 0.8547235333377922.\n",
            "[I 2025-07-18 08:24:12,678] Trial 17 finished with value: 0.8497364368644948 and parameters: {'n_estimators': 261, 'max_depth': 7, 'learning_rate': 0.3603186000953527, 'num_leaves': 300, 'min_child_samples': 92, 'subsample': 0.8532403108631954, 'colsample_bytree': 0.8794442348019057, 'reg_alpha': 0.6963186227911862, 'reg_lambda': 2.150489534347194}. Best is trial 8 with value: 0.8547235333377922.\n",
            "[I 2025-07-18 08:25:00,401] Trial 18 finished with value: 0.852785007899741 and parameters: {'n_estimators': 186, 'max_depth': 9, 'learning_rate': 0.28408002813297417, 'num_leaves': 20, 'min_child_samples': 17, 'subsample': 0.9963962839434393, 'colsample_bytree': 0.9520916996048677, 'reg_alpha': 2.04738517127233, 'reg_lambda': 1.2748168249428091}. Best is trial 8 with value: 0.8547235333377922.\n",
            "[I 2025-07-18 08:25:48,680] Trial 19 finished with value: 0.8533698406199635 and parameters: {'n_estimators': 316, 'max_depth': 6, 'learning_rate': 0.277334706835407, 'num_leaves': 72, 'min_child_samples': 38, 'subsample': 0.8221039851795795, 'colsample_bytree': 0.7009348089872359, 'reg_alpha': 3.5443823365580975, 'reg_lambda': 4.91883295377023}. Best is trial 8 with value: 0.8547235333377922.\n",
            "[I 2025-07-18 08:26:32,906] Trial 20 finished with value: 0.8472476978322672 and parameters: {'n_estimators': 235, 'max_depth': 9, 'learning_rate': 0.39991454101908697, 'num_leaves': 119, 'min_child_samples': 99, 'subsample': 0.9383003069240539, 'colsample_bytree': 0.8655911612027446, 'reg_alpha': 0.6937166913487551, 'reg_lambda': 2.829724521422525}. Best is trial 8 with value: 0.8547235333377922.\n",
            "[I 2025-07-18 08:27:41,618] Trial 21 finished with value: 0.852628905613499 and parameters: {'n_estimators': 327, 'max_depth': 9, 'learning_rate': 0.1695680162127145, 'num_leaves': 175, 'min_child_samples': 73, 'subsample': 0.9421628843877708, 'colsample_bytree': 0.7658070451918173, 'reg_alpha': 1.4558071897692257, 'reg_lambda': 4.105371457521588}. Best is trial 8 with value: 0.8547235333377922.\n",
            "[I 2025-07-18 08:28:46,802] Trial 22 finished with value: 0.8524799240697118 and parameters: {'n_estimators': 269, 'max_depth': 8, 'learning_rate': 0.13974934801646693, 'num_leaves': 215, 'min_child_samples': 86, 'subsample': 0.912907219901598, 'colsample_bytree': 0.7080119707200826, 'reg_alpha': 0.9742260206116247, 'reg_lambda': 4.135765730283905}. Best is trial 8 with value: 0.8547235333377922.\n",
            "[I 2025-07-18 08:29:57,395] Trial 23 finished with value: 0.8528948127064823 and parameters: {'n_estimators': 327, 'max_depth': 7, 'learning_rate': 0.16948435178752788, 'num_leaves': 191, 'min_child_samples': 71, 'subsample': 0.9445210615166175, 'colsample_bytree': 0.7635797826299193, 'reg_alpha': 1.51166859494563, 'reg_lambda': 3.915375888697968}. Best is trial 8 with value: 0.8547235333377922.\n",
            "[I 2025-07-18 08:30:35,334] Trial 24 finished with value: 0.8470331831848512 and parameters: {'n_estimators': 189, 'max_depth': 9, 'learning_rate': 0.35233932359498854, 'num_leaves': 41, 'min_child_samples': 91, 'subsample': 0.8736781706686235, 'colsample_bytree': 0.7952565826594507, 'reg_alpha': 2.2067123886694815, 'reg_lambda': 4.4183254259431175}. Best is trial 8 with value: 0.8547235333377922.\n",
            "[I 2025-07-18 08:32:34,984] Trial 25 finished with value: 0.851410119950758 and parameters: {'n_estimators': 500, 'max_depth': 8, 'learning_rate': 0.041648517976364596, 'num_leaves': 235, 'min_child_samples': 81, 'subsample': 0.957189342466935, 'colsample_bytree': 0.6427564607266932, 'reg_alpha': 0.5349838085301144, 'reg_lambda': 3.7800795563909384}. Best is trial 8 with value: 0.8547235333377922.\n",
            "[I 2025-07-18 08:33:57,827] Trial 26 finished with value: 0.8515015834275591 and parameters: {'n_estimators': 253, 'max_depth': 9, 'learning_rate': 0.0854311428757378, 'num_leaves': 142, 'min_child_samples': 67, 'subsample': 0.9068079455283725, 'colsample_bytree': 0.7398506632469961, 'reg_alpha': 1.228768025788106, 'reg_lambda': 2.8936187182744213}. Best is trial 8 with value: 0.8547235333377922.\n",
            "[I 2025-07-18 08:35:04,780] Trial 27 finished with value: 0.851446562392877 and parameters: {'n_estimators': 353, 'max_depth': 7, 'learning_rate': 0.1974590846666584, 'num_leaves': 242, 'min_child_samples': 75, 'subsample': 0.7644484351864959, 'colsample_bytree': 0.8018777008528591, 'reg_alpha': 1.711336579209517, 'reg_lambda': 2.1521457812380937}. Best is trial 8 with value: 0.8547235333377922.\n",
            "[I 2025-07-18 08:36:29,480] Trial 28 finished with value: 0.8566660424142791 and parameters: {'n_estimators': 293, 'max_depth': 10, 'learning_rate': 0.14894054820176908, 'num_leaves': 149, 'min_child_samples': 93, 'subsample': 0.9978672924751126, 'colsample_bytree': 0.9117467264842741, 'reg_alpha': 0.3949685966765586, 'reg_lambda': 4.5735228972897275}. Best is trial 28 with value: 0.8566660424142791.\n",
            "[I 2025-07-18 08:37:42,711] Trial 29 finished with value: 0.8477850924613207 and parameters: {'n_estimators': 292, 'max_depth': 5, 'learning_rate': 0.1341258121865021, 'num_leaves': 82, 'min_child_samples': 94, 'subsample': 0.9957832499957621, 'colsample_bytree': 0.9663344987502736, 'reg_alpha': 0.011778801132002359, 'reg_lambda': 4.710740072299723}. Best is trial 28 with value: 0.8566660424142791.\n"
          ]
        },
        {
          "output_type": "stream",
          "name": "stdout",
          "text": [
            "{'n_estimators': 293, 'max_depth': 10, 'learning_rate': 0.14894054820176908, 'num_leaves': 149, 'min_child_samples': 93, 'subsample': 0.9978672924751126, 'colsample_bytree': 0.9117467264842741, 'reg_alpha': 0.3949685966765586, 'reg_lambda': 4.5735228972897275}\n"
          ]
        }
      ]
    },
    {
      "cell_type": "code",
      "source": [
        "print(best_params)"
      ],
      "metadata": {
        "colab": {
          "base_uri": "https://localhost:8080/"
        },
        "id": "fS1r5BSzruDP",
        "outputId": "73bd0aaf-e10f-4e57-eb7b-c16286e8e894"
      },
      "execution_count": 35,
      "outputs": [
        {
          "output_type": "stream",
          "name": "stdout",
          "text": [
            "{'n_estimators': 293, 'max_depth': 10, 'learning_rate': 0.14894054820176908, 'num_leaves': 149, 'min_child_samples': 93, 'subsample': 0.9978672924751126, 'colsample_bytree': 0.9117467264842741, 'reg_alpha': 0.3949685966765586, 'reg_lambda': 4.5735228972897275}\n"
          ]
        }
      ]
    },
    {
      "cell_type": "code",
      "source": [
        "best_trial = study.best_trial.value\n",
        "print('average_precission: ',best_trial)"
      ],
      "metadata": {
        "colab": {
          "base_uri": "https://localhost:8080/"
        },
        "id": "sLs3OVG6r1Od",
        "outputId": "be99da65-a18e-4dd2-e0cd-1c30aa50e70a"
      },
      "execution_count": 40,
      "outputs": [
        {
          "output_type": "stream",
          "name": "stdout",
          "text": [
            "average_precission:  0.8566660424142791\n"
          ]
        }
      ]
    },
    {
      "cell_type": "code",
      "source": [
        "#Build Final Pipeline with Best Params\n",
        "final_pipeline = ImbPipeline(steps=[\n",
        "    ('preprocessor', preprocessor),\n",
        "    ('smote', SMOTE(random_state=42)),\n",
        "    ('model', LGBMClassifier(**best_params, n_jobs=1, random_state=42))\n",
        "])"
      ],
      "metadata": {
        "id": "y7OCoQX8qZyA"
      },
      "execution_count": 41,
      "outputs": []
    },
    {
      "cell_type": "code",
      "source": [
        "#Cross-Validated Predict Proba\n",
        "skf = StratifiedKFold(n_splits=5,shuffle=True,random_state=42)\n",
        "y_proba = cross_val_predict(final_pipeline,X_train,y_train,cv=skf,method='predict_proba',n_jobs=-1)[:,1]"
      ],
      "metadata": {
        "id": "_rP4_mpusir2"
      },
      "execution_count": 43,
      "outputs": []
    },
    {
      "cell_type": "code",
      "source": [
        "# Compute AUPRC (Average Precision)\n",
        "from sklearn.metrics import average_precision_score\n",
        "auprc = average_precision_score(y_train, y_proba)\n",
        "print('AUPRC:', auprc)"
      ],
      "metadata": {
        "colab": {
          "base_uri": "https://localhost:8080/"
        },
        "id": "qlOBieiisi6M",
        "outputId": "9886e180-581a-428a-eaec-06dd3556600a"
      },
      "execution_count": 44,
      "outputs": [
        {
          "output_type": "stream",
          "name": "stdout",
          "text": [
            "AUPRC: 0.8562630565363144\n"
          ]
        }
      ]
    },
    {
      "cell_type": "code",
      "source": [
        "#Tune Threshold\n",
        "from sklearn.metrics import precision_recall_curve\n",
        "\n",
        "precision, recall, thresholds = precision_recall_curve(y_train, y_proba)\n",
        "\n",
        "# Compute F1 for all thresholds\n",
        "f1_scores = 2 * (precision * recall) / (precision + recall + 1e-10)\n",
        "\n",
        "#Best threshold\n",
        "best_index = f1_scores.argmax()\n",
        "best_threshold = thresholds[best_index]\n",
        "print(\"Best Threshold:\", best_threshold)"
      ],
      "metadata": {
        "colab": {
          "base_uri": "https://localhost:8080/"
        },
        "id": "FAc9tDPytKVk",
        "outputId": "683a47ef-b9c9-4b13-bd2d-ec83a2f2afb3"
      },
      "execution_count": 47,
      "outputs": [
        {
          "output_type": "stream",
          "name": "stdout",
          "text": [
            "Best Threshold: 0.9821392069976014\n"
          ]
        }
      ]
    },
    {
      "cell_type": "code",
      "source": [
        "from sklearn.metrics import classification_report, confusion_matrix, average_precision_score\n",
        "\n",
        "y_pred = (y_proba >= best_threshold).astype(int) # y_pred_proba >= optimal_threshold gives Boolean, hence making int\n",
        "\n",
        "print('classification_report: \\n',classification_report(y_train, y_pred))\n",
        "print('confusion_matrix: \\n', confusion_matrix(y_train, y_pred))\n",
        "print('auprc: \\n',average_precision_score(y_train, y_pred))"
      ],
      "metadata": {
        "colab": {
          "base_uri": "https://localhost:8080/"
        },
        "id": "w8m-lyhGsi9d",
        "outputId": "4bf4acde-6088-47ea-d1c4-0436ef9a7e05"
      },
      "execution_count": 55,
      "outputs": [
        {
          "output_type": "stream",
          "name": "stdout",
          "text": [
            "classification_report: \n",
            "               precision    recall  f1-score   support\n",
            "\n",
            "           0       1.00      1.00      1.00    227451\n",
            "           1       0.94      0.79      0.86       394\n",
            "\n",
            "    accuracy                           1.00    227845\n",
            "   macro avg       0.97      0.90      0.93    227845\n",
            "weighted avg       1.00      1.00      1.00    227845\n",
            "\n",
            "confusion_matrix: \n",
            " [[227432     19]\n",
            " [    82    312]]\n",
            "auprc: \n",
            " 0.7467828238409651\n"
          ]
        }
      ]
    },
    {
      "cell_type": "markdown",
      "source": [
        "Precision (fraud) = 0.94 → When the model says fraud, it's correct 94% of the time.\n",
        "\n",
        "Recall (fraud) = 0.79 → It catches 79% of the actual frauds.\n",
        "\n",
        "F1-score (fraud) = 0.86 → Balance of precision and recall is quite strong."
      ],
      "metadata": {
        "id": "UWrYJC_lzWL5"
      }
    },
    {
      "cell_type": "markdown",
      "source": [
        "SHAP Explainability"
      ],
      "metadata": {
        "id": "rfvlVItAweJ8"
      }
    },
    {
      "cell_type": "code",
      "source": [
        "final_pipeline.fit(X,y)\n",
        "\n",
        "X_transformed = final_pipeline.named_steps['preprocessor'].transform(X)\n",
        "model = final_pipeline.named_steps['model']\n",
        "\n",
        "explainer = shap.TreeExplainer(model)\n",
        "shap_values = explainer.shap_values(X_transformed)\n",
        "\n",
        "shap.summary_plot(shap_values, X_transformed,feature_names=num_features)"
      ],
      "metadata": {
        "colab": {
          "base_uri": "https://localhost:8080/",
          "height": 1000
        },
        "collapsed": true,
        "id": "cmCrNj0dsjEB",
        "outputId": "37da373d-6361-4adc-e905-139a7412458b"
      },
      "execution_count": 56,
      "outputs": [
        {
          "output_type": "stream",
          "name": "stdout",
          "text": [
            "[LightGBM] [Info] Number of positive: 284315, number of negative: 284315\n",
            "[LightGBM] [Info] Auto-choosing col-wise multi-threading, the overhead of testing was 0.134578 seconds.\n",
            "You can set `force_col_wise=true` to remove the overhead.\n",
            "[LightGBM] [Info] Total Bins 7395\n",
            "[LightGBM] [Info] Number of data points in the train set: 568630, number of used features: 29\n",
            "[LightGBM] [Info] [binary:BoostFromScore]: pavg=0.500000 -> initscore=0.000000\n",
            "[LightGBM] [Warning] No further splits with positive gain, best gain: -inf\n",
            "[LightGBM] [Warning] No further splits with positive gain, best gain: -inf\n",
            "[LightGBM] [Warning] No further splits with positive gain, best gain: -inf\n",
            "[LightGBM] [Warning] No further splits with positive gain, best gain: -inf\n",
            "[LightGBM] [Warning] No further splits with positive gain, best gain: -inf\n",
            "[LightGBM] [Warning] No further splits with positive gain, best gain: -inf\n",
            "[LightGBM] [Warning] No further splits with positive gain, best gain: -inf\n",
            "[LightGBM] [Warning] No further splits with positive gain, best gain: -inf\n",
            "[LightGBM] [Warning] No further splits with positive gain, best gain: -inf\n",
            "[LightGBM] [Warning] No further splits with positive gain, best gain: -inf\n",
            "[LightGBM] [Warning] No further splits with positive gain, best gain: -inf\n",
            "[LightGBM] [Warning] No further splits with positive gain, best gain: -inf\n",
            "[LightGBM] [Warning] No further splits with positive gain, best gain: -inf\n",
            "[LightGBM] [Warning] No further splits with positive gain, best gain: -inf\n",
            "[LightGBM] [Warning] No further splits with positive gain, best gain: -inf\n",
            "[LightGBM] [Warning] No further splits with positive gain, best gain: -inf\n",
            "[LightGBM] [Warning] No further splits with positive gain, best gain: -inf\n",
            "[LightGBM] [Warning] No further splits with positive gain, best gain: -inf\n",
            "[LightGBM] [Warning] No further splits with positive gain, best gain: -inf\n",
            "[LightGBM] [Warning] No further splits with positive gain, best gain: -inf\n",
            "[LightGBM] [Warning] No further splits with positive gain, best gain: -inf\n",
            "[LightGBM] [Warning] No further splits with positive gain, best gain: -inf\n",
            "[LightGBM] [Warning] No further splits with positive gain, best gain: -inf\n",
            "[LightGBM] [Warning] No further splits with positive gain, best gain: -inf\n",
            "[LightGBM] [Warning] No further splits with positive gain, best gain: -inf\n",
            "[LightGBM] [Warning] No further splits with positive gain, best gain: -inf\n",
            "[LightGBM] [Warning] No further splits with positive gain, best gain: -inf\n",
            "[LightGBM] [Warning] No further splits with positive gain, best gain: -inf\n",
            "[LightGBM] [Warning] No further splits with positive gain, best gain: -inf\n",
            "[LightGBM] [Warning] No further splits with positive gain, best gain: -inf\n",
            "[LightGBM] [Warning] No further splits with positive gain, best gain: -inf\n",
            "[LightGBM] [Warning] No further splits with positive gain, best gain: -inf\n",
            "[LightGBM] [Warning] No further splits with positive gain, best gain: -inf\n",
            "[LightGBM] [Warning] No further splits with positive gain, best gain: -inf\n",
            "[LightGBM] [Warning] No further splits with positive gain, best gain: -inf\n",
            "[LightGBM] [Warning] No further splits with positive gain, best gain: -inf\n",
            "[LightGBM] [Warning] No further splits with positive gain, best gain: -inf\n",
            "[LightGBM] [Warning] No further splits with positive gain, best gain: -inf\n",
            "[LightGBM] [Warning] No further splits with positive gain, best gain: -inf\n",
            "[LightGBM] [Warning] No further splits with positive gain, best gain: -inf\n",
            "[LightGBM] [Warning] No further splits with positive gain, best gain: -inf\n",
            "[LightGBM] [Warning] No further splits with positive gain, best gain: -inf\n",
            "[LightGBM] [Warning] No further splits with positive gain, best gain: -inf\n",
            "[LightGBM] [Warning] No further splits with positive gain, best gain: -inf\n",
            "[LightGBM] [Warning] No further splits with positive gain, best gain: -inf\n",
            "[LightGBM] [Warning] No further splits with positive gain, best gain: -inf\n",
            "[LightGBM] [Warning] No further splits with positive gain, best gain: -inf\n",
            "[LightGBM] [Warning] No further splits with positive gain, best gain: -inf\n",
            "[LightGBM] [Warning] No further splits with positive gain, best gain: -inf\n",
            "[LightGBM] [Warning] No further splits with positive gain, best gain: -inf\n",
            "[LightGBM] [Warning] No further splits with positive gain, best gain: -inf\n",
            "[LightGBM] [Warning] No further splits with positive gain, best gain: -inf\n",
            "[LightGBM] [Warning] No further splits with positive gain, best gain: -inf\n",
            "[LightGBM] [Warning] No further splits with positive gain, best gain: -inf\n",
            "[LightGBM] [Warning] No further splits with positive gain, best gain: -inf\n",
            "[LightGBM] [Warning] No further splits with positive gain, best gain: -inf\n",
            "[LightGBM] [Warning] No further splits with positive gain, best gain: -inf\n",
            "[LightGBM] [Warning] No further splits with positive gain, best gain: -inf\n",
            "[LightGBM] [Warning] No further splits with positive gain, best gain: -inf\n",
            "[LightGBM] [Warning] No further splits with positive gain, best gain: -inf\n",
            "[LightGBM] [Warning] No further splits with positive gain, best gain: -inf\n",
            "[LightGBM] [Warning] No further splits with positive gain, best gain: -inf\n",
            "[LightGBM] [Warning] No further splits with positive gain, best gain: -inf\n",
            "[LightGBM] [Warning] No further splits with positive gain, best gain: -inf\n",
            "[LightGBM] [Warning] No further splits with positive gain, best gain: -inf\n",
            "[LightGBM] [Warning] No further splits with positive gain, best gain: -inf\n",
            "[LightGBM] [Warning] No further splits with positive gain, best gain: -inf\n",
            "[LightGBM] [Warning] No further splits with positive gain, best gain: -inf\n",
            "[LightGBM] [Warning] No further splits with positive gain, best gain: -inf\n",
            "[LightGBM] [Warning] No further splits with positive gain, best gain: -inf\n",
            "[LightGBM] [Warning] No further splits with positive gain, best gain: -inf\n",
            "[LightGBM] [Warning] No further splits with positive gain, best gain: -inf\n",
            "[LightGBM] [Warning] No further splits with positive gain, best gain: -inf\n",
            "[LightGBM] [Warning] No further splits with positive gain, best gain: -inf\n",
            "[LightGBM] [Warning] No further splits with positive gain, best gain: -inf\n",
            "[LightGBM] [Warning] No further splits with positive gain, best gain: -inf\n",
            "[LightGBM] [Warning] No further splits with positive gain, best gain: -inf\n",
            "[LightGBM] [Warning] No further splits with positive gain, best gain: -inf\n",
            "[LightGBM] [Warning] No further splits with positive gain, best gain: -inf\n",
            "[LightGBM] [Warning] No further splits with positive gain, best gain: -inf\n",
            "[LightGBM] [Warning] No further splits with positive gain, best gain: -inf\n",
            "[LightGBM] [Warning] No further splits with positive gain, best gain: -inf\n",
            "[LightGBM] [Warning] No further splits with positive gain, best gain: -inf\n",
            "[LightGBM] [Warning] No further splits with positive gain, best gain: -inf\n",
            "[LightGBM] [Warning] No further splits with positive gain, best gain: -inf\n",
            "[LightGBM] [Warning] No further splits with positive gain, best gain: -inf\n",
            "[LightGBM] [Warning] No further splits with positive gain, best gain: -inf\n",
            "[LightGBM] [Warning] No further splits with positive gain, best gain: -inf\n",
            "[LightGBM] [Warning] No further splits with positive gain, best gain: -inf\n",
            "[LightGBM] [Warning] No further splits with positive gain, best gain: -inf\n",
            "[LightGBM] [Warning] No further splits with positive gain, best gain: -inf\n",
            "[LightGBM] [Warning] No further splits with positive gain, best gain: -inf\n",
            "[LightGBM] [Warning] No further splits with positive gain, best gain: -inf\n",
            "[LightGBM] [Warning] No further splits with positive gain, best gain: -inf\n",
            "[LightGBM] [Warning] No further splits with positive gain, best gain: -inf\n",
            "[LightGBM] [Warning] No further splits with positive gain, best gain: -inf\n",
            "[LightGBM] [Warning] No further splits with positive gain, best gain: -inf\n",
            "[LightGBM] [Warning] No further splits with positive gain, best gain: -inf\n",
            "[LightGBM] [Warning] No further splits with positive gain, best gain: -inf\n",
            "[LightGBM] [Warning] No further splits with positive gain, best gain: -inf\n",
            "[LightGBM] [Warning] No further splits with positive gain, best gain: -inf\n",
            "[LightGBM] [Warning] No further splits with positive gain, best gain: -inf\n",
            "[LightGBM] [Warning] No further splits with positive gain, best gain: -inf\n",
            "[LightGBM] [Warning] No further splits with positive gain, best gain: -inf\n",
            "[LightGBM] [Warning] No further splits with positive gain, best gain: -inf\n",
            "[LightGBM] [Warning] No further splits with positive gain, best gain: -inf\n",
            "[LightGBM] [Warning] No further splits with positive gain, best gain: -inf\n",
            "[LightGBM] [Warning] No further splits with positive gain, best gain: -inf\n",
            "[LightGBM] [Warning] No further splits with positive gain, best gain: -inf\n",
            "[LightGBM] [Warning] No further splits with positive gain, best gain: -inf\n",
            "[LightGBM] [Warning] No further splits with positive gain, best gain: -inf\n",
            "[LightGBM] [Warning] No further splits with positive gain, best gain: -inf\n",
            "[LightGBM] [Warning] No further splits with positive gain, best gain: -inf\n",
            "[LightGBM] [Warning] No further splits with positive gain, best gain: -inf\n",
            "[LightGBM] [Warning] No further splits with positive gain, best gain: -inf\n",
            "[LightGBM] [Warning] No further splits with positive gain, best gain: -inf\n",
            "[LightGBM] [Warning] No further splits with positive gain, best gain: -inf\n",
            "[LightGBM] [Warning] No further splits with positive gain, best gain: -inf\n",
            "[LightGBM] [Warning] No further splits with positive gain, best gain: -inf\n",
            "[LightGBM] [Warning] No further splits with positive gain, best gain: -inf\n",
            "[LightGBM] [Warning] No further splits with positive gain, best gain: -inf\n",
            "[LightGBM] [Warning] No further splits with positive gain, best gain: -inf\n",
            "[LightGBM] [Warning] No further splits with positive gain, best gain: -inf\n",
            "[LightGBM] [Warning] No further splits with positive gain, best gain: -inf\n",
            "[LightGBM] [Warning] No further splits with positive gain, best gain: -inf\n",
            "[LightGBM] [Warning] No further splits with positive gain, best gain: -inf\n",
            "[LightGBM] [Warning] No further splits with positive gain, best gain: -inf\n",
            "[LightGBM] [Warning] No further splits with positive gain, best gain: -inf\n",
            "[LightGBM] [Warning] No further splits with positive gain, best gain: -inf\n",
            "[LightGBM] [Warning] No further splits with positive gain, best gain: -inf\n",
            "[LightGBM] [Warning] No further splits with positive gain, best gain: -inf\n",
            "[LightGBM] [Warning] No further splits with positive gain, best gain: -inf\n",
            "[LightGBM] [Warning] No further splits with positive gain, best gain: -inf\n",
            "[LightGBM] [Warning] No further splits with positive gain, best gain: -inf\n",
            "[LightGBM] [Warning] No further splits with positive gain, best gain: -inf\n",
            "[LightGBM] [Warning] No further splits with positive gain, best gain: -inf\n",
            "[LightGBM] [Warning] No further splits with positive gain, best gain: -inf\n",
            "[LightGBM] [Warning] No further splits with positive gain, best gain: -inf\n",
            "[LightGBM] [Warning] No further splits with positive gain, best gain: -inf\n",
            "[LightGBM] [Warning] No further splits with positive gain, best gain: -inf\n",
            "[LightGBM] [Warning] No further splits with positive gain, best gain: -inf\n",
            "[LightGBM] [Warning] No further splits with positive gain, best gain: -inf\n",
            "[LightGBM] [Warning] No further splits with positive gain, best gain: -inf\n",
            "[LightGBM] [Warning] No further splits with positive gain, best gain: -inf\n",
            "[LightGBM] [Warning] No further splits with positive gain, best gain: -inf\n",
            "[LightGBM] [Warning] No further splits with positive gain, best gain: -inf\n",
            "[LightGBM] [Warning] No further splits with positive gain, best gain: -inf\n",
            "[LightGBM] [Warning] No further splits with positive gain, best gain: -inf\n",
            "[LightGBM] [Warning] No further splits with positive gain, best gain: -inf\n",
            "[LightGBM] [Warning] No further splits with positive gain, best gain: -inf\n",
            "[LightGBM] [Warning] No further splits with positive gain, best gain: -inf\n",
            "[LightGBM] [Warning] No further splits with positive gain, best gain: -inf\n",
            "[LightGBM] [Warning] No further splits with positive gain, best gain: -inf\n",
            "[LightGBM] [Warning] No further splits with positive gain, best gain: -inf\n",
            "[LightGBM] [Warning] No further splits with positive gain, best gain: -inf\n",
            "[LightGBM] [Warning] No further splits with positive gain, best gain: -inf\n",
            "[LightGBM] [Warning] No further splits with positive gain, best gain: -inf\n",
            "[LightGBM] [Warning] No further splits with positive gain, best gain: -inf\n",
            "[LightGBM] [Warning] No further splits with positive gain, best gain: -inf\n",
            "[LightGBM] [Warning] No further splits with positive gain, best gain: -inf\n",
            "[LightGBM] [Warning] No further splits with positive gain, best gain: -inf\n",
            "[LightGBM] [Warning] No further splits with positive gain, best gain: -inf\n",
            "[LightGBM] [Warning] No further splits with positive gain, best gain: -inf\n",
            "[LightGBM] [Warning] No further splits with positive gain, best gain: -inf\n",
            "[LightGBM] [Warning] No further splits with positive gain, best gain: -inf\n",
            "[LightGBM] [Warning] No further splits with positive gain, best gain: -inf\n",
            "[LightGBM] [Warning] No further splits with positive gain, best gain: -inf\n",
            "[LightGBM] [Warning] No further splits with positive gain, best gain: -inf\n",
            "[LightGBM] [Warning] No further splits with positive gain, best gain: -inf\n",
            "[LightGBM] [Warning] No further splits with positive gain, best gain: -inf\n",
            "[LightGBM] [Warning] No further splits with positive gain, best gain: -inf\n",
            "[LightGBM] [Warning] No further splits with positive gain, best gain: -inf\n",
            "[LightGBM] [Warning] No further splits with positive gain, best gain: -inf\n",
            "[LightGBM] [Warning] No further splits with positive gain, best gain: -inf\n",
            "[LightGBM] [Warning] No further splits with positive gain, best gain: -inf\n",
            "[LightGBM] [Warning] No further splits with positive gain, best gain: -inf\n",
            "[LightGBM] [Warning] No further splits with positive gain, best gain: -inf\n",
            "[LightGBM] [Warning] No further splits with positive gain, best gain: -inf\n",
            "[LightGBM] [Warning] No further splits with positive gain, best gain: -inf\n",
            "[LightGBM] [Warning] No further splits with positive gain, best gain: -inf\n",
            "[LightGBM] [Warning] No further splits with positive gain, best gain: -inf\n",
            "[LightGBM] [Warning] No further splits with positive gain, best gain: -inf\n",
            "[LightGBM] [Warning] No further splits with positive gain, best gain: -inf\n",
            "[LightGBM] [Warning] No further splits with positive gain, best gain: -inf\n",
            "[LightGBM] [Warning] No further splits with positive gain, best gain: -inf\n",
            "[LightGBM] [Warning] No further splits with positive gain, best gain: -inf\n",
            "[LightGBM] [Warning] No further splits with positive gain, best gain: -inf\n",
            "[LightGBM] [Warning] No further splits with positive gain, best gain: -inf\n",
            "[LightGBM] [Warning] No further splits with positive gain, best gain: -inf\n",
            "[LightGBM] [Warning] No further splits with positive gain, best gain: -inf\n",
            "[LightGBM] [Warning] No further splits with positive gain, best gain: -inf\n",
            "[LightGBM] [Warning] No further splits with positive gain, best gain: -inf\n",
            "[LightGBM] [Warning] No further splits with positive gain, best gain: -inf\n",
            "[LightGBM] [Warning] No further splits with positive gain, best gain: -inf\n",
            "[LightGBM] [Warning] No further splits with positive gain, best gain: -inf\n",
            "[LightGBM] [Warning] No further splits with positive gain, best gain: -inf\n",
            "[LightGBM] [Warning] No further splits with positive gain, best gain: -inf\n",
            "[LightGBM] [Warning] No further splits with positive gain, best gain: -inf\n",
            "[LightGBM] [Warning] No further splits with positive gain, best gain: -inf\n",
            "[LightGBM] [Warning] No further splits with positive gain, best gain: -inf\n",
            "[LightGBM] [Warning] No further splits with positive gain, best gain: -inf\n",
            "[LightGBM] [Warning] No further splits with positive gain, best gain: -inf\n",
            "[LightGBM] [Warning] No further splits with positive gain, best gain: -inf\n",
            "[LightGBM] [Warning] No further splits with positive gain, best gain: -inf\n",
            "[LightGBM] [Warning] No further splits with positive gain, best gain: -inf\n",
            "[LightGBM] [Warning] No further splits with positive gain, best gain: -inf\n",
            "[LightGBM] [Warning] No further splits with positive gain, best gain: -inf\n",
            "[LightGBM] [Warning] No further splits with positive gain, best gain: -inf\n",
            "[LightGBM] [Warning] No further splits with positive gain, best gain: -inf\n",
            "[LightGBM] [Warning] No further splits with positive gain, best gain: -inf\n",
            "[LightGBM] [Warning] No further splits with positive gain, best gain: -inf\n",
            "[LightGBM] [Warning] No further splits with positive gain, best gain: -inf\n",
            "[LightGBM] [Warning] No further splits with positive gain, best gain: -inf\n",
            "[LightGBM] [Warning] No further splits with positive gain, best gain: -inf\n",
            "[LightGBM] [Warning] No further splits with positive gain, best gain: -inf\n",
            "[LightGBM] [Warning] No further splits with positive gain, best gain: -inf\n",
            "[LightGBM] [Warning] No further splits with positive gain, best gain: -inf\n",
            "[LightGBM] [Warning] No further splits with positive gain, best gain: -inf\n",
            "[LightGBM] [Warning] No further splits with positive gain, best gain: -inf\n",
            "[LightGBM] [Warning] No further splits with positive gain, best gain: -inf\n",
            "[LightGBM] [Warning] No further splits with positive gain, best gain: -inf\n",
            "[LightGBM] [Warning] No further splits with positive gain, best gain: -inf\n",
            "[LightGBM] [Warning] No further splits with positive gain, best gain: -inf\n",
            "[LightGBM] [Warning] No further splits with positive gain, best gain: -inf\n",
            "[LightGBM] [Warning] No further splits with positive gain, best gain: -inf\n",
            "[LightGBM] [Warning] No further splits with positive gain, best gain: -inf\n",
            "[LightGBM] [Warning] No further splits with positive gain, best gain: -inf\n",
            "[LightGBM] [Warning] No further splits with positive gain, best gain: -inf\n",
            "[LightGBM] [Warning] No further splits with positive gain, best gain: -inf\n"
          ]
        },
        {
          "output_type": "display_data",
          "data": {
            "text/plain": [
              "<Figure size 800x950 with 2 Axes>"
            ],
            "image/png": "[encoded data removed]"
          },
          "metadata": {}
        }
      ]
    },
    {
      "cell_type": "code",
      "source": [
        "import pandas as pd\n",
        "import matplotlib.pyplot as plt\n",
        "\n",
        "#get encoded feature names\n",
        "encoded_feature_names = final_pipeline.named_steps['preprocessor'].get_feature_names_out()\n",
        "\n",
        "#convert shap_values[1] to dataframe class 1\n",
        "shap_matrix = shap_values[1] if isinstance(shap_values, list) else shap_values\n",
        "shap_df = pd.DataFrame(shap_matrix, columns=encoded_feature_names)\n",
        "\n",
        "#clean feature names\n",
        "clean_feature_map = [col.split('__')[-1].split('_')[0] for col in shap_df.columns]\n",
        "shap_df.columns = clean_feature_map\n",
        "\n",
        "#Group by features and avg of importance(shap_values)\n",
        "shap_grouped = shap_df.groupby(shap_df.columns,axis=1).mean()\n",
        "mean_abs_shap = shap_grouped.abs().mean().sort_values(ascending=False)\n",
        "\n",
        "#plot\n",
        "plt.figure(figsize=(10, 8))\n",
        "mean_abs_shap.plot(kind='barh')\n",
        "plt.title(\"Mean Absolute SHAP Values by Raw Feature\")\n",
        "plt.xlabel(\"Mean |SHAP Value|\")\n",
        "plt.tight_layout()\n",
        "plt.show()"
      ],
      "metadata": {
        "colab": {
          "base_uri": "https://localhost:8080/",
          "height": 791
        },
        "id": "C-eOE3lE07Eb",
        "outputId": "59dc7b81-c575-4c07-fee4-3c468eeb34c0"
      },
      "execution_count": 58,
      "outputs": [
        {
          "output_type": "display_data",
          "data": {
            "text/plain": [
              "<Figure size 1000x800 with 1 Axes>"
            ],
            "image/png": "[encoded data removed]"
          },
          "metadata": {}
        }
      ]
    },
    {
      "cell_type": "code",
      "source": [
        "#extract default values for stremlit app, 50% features to have default values\n",
        "import pandas as pd\n",
        "num_cols = X.select_dtypes(include=['number']).columns\n",
        "\n",
        "# Get median for numerical columns\n",
        "default_num_values = X[num_cols].median()\n",
        "\n",
        "print(default_num_values.to_dict())"
      ],
      "metadata": {
        "colab": {
          "base_uri": "https://localhost:8080/"
        },
        "id": "Q9CWhGaD4wXc",
        "outputId": "bb507263-4241-4c15-e4f9-fcaaf7445f2e"
      },
      "execution_count": 59,
      "outputs": [
        {
          "output_type": "stream",
          "name": "stdout",
          "text": [
            "{'V1': 0.0181087991615309, 'V2': 0.0654855563960555, 'V3': 0.179846343563544, 'V4': -0.0198465294811989, 'V5': -0.0543358267364858, 'V6': -0.274187076506651, 'V7': 0.0401030827945351, 'V8': 0.0223580364366631, 'V9': -0.051428731550349, 'V10': -0.0929173835961975, 'V11': -0.032757354499007, 'V12': 0.140032588291332, 'V13': -0.0135680567852071, 'V14': 0.0506013193100486, 'V15': 0.0480715497626106, 'V16': 0.0664133205843014, 'V17': -0.0656757538072252, 'V18': -0.0036363123546992, 'V19': 0.0037348229952574, 'V20': -0.0624810924603664, 'V21': -0.0294501676953819, 'V22': 0.0067819425282695, 'V23': -0.0111929302967212, 'V24': 0.0409760560572798, 'V25': 0.0165935016367397, 'V26': -0.0521391080182019, 'V27': 0.0013421459786502, 'V28': 0.011243831564982, 'Amount': 22.0}\n"
          ]
        }
      ]
    },
    {
      "cell_type": "code",
      "source": [
        "import joblib\n",
        "\n",
        "joblib.dump(final_pipeline, 'fraud_risk_pipeline.pkl')\n",
        "\n",
        "joblib.dump(default_num_values,'median_values.pkl')"
      ],
      "metadata": {
        "colab": {
          "base_uri": "https://localhost:8080/"
        },
        "id": "_l9anbEL45Er",
        "outputId": "72d2fdd9-5238-448b-c440-2fd786c0ef97"
      },
      "execution_count": 62,
      "outputs": [
        {
          "output_type": "execute_result",
          "data": {
            "text/plain": [
              "['median_values.pkl']"
            ]
          },
          "metadata": {},
          "execution_count": 62
        }
      ]
    },
    {
      "cell_type": "code",
      "source": [
        "#Download to your local machine\n",
        "from google.colab import files\n",
        "\n",
        "# Download the model\n",
        "files.download(\"fraud_risk_pipeline.pkl\")\n",
        "\n",
        "# Download the default median values\n",
        "files.download(\"median_values.pkl\")"
      ],
      "metadata": {
        "colab": {
          "base_uri": "https://localhost:8080/",
          "height": 17
        },
        "id": "RIbfooZX4wZ9",
        "outputId": "e73f16a6-c708-42b3-8fd0-2bc2ee723cec"
      },
      "execution_count": 63,
      "outputs": [
        {
          "output_type": "display_data",
          "data": {
            "text/plain": [
              "<IPython.core.display.Javascript object>"
            ],
            "application/javascript": [
              "\n",
              "    async function download(id, filename, size) {\n",
              "      if (!google.colab.kernel.accessAllowed) {\n",
              "        return;\n",
              "      }\n",
              "      const div = document.createElement('div');\n",
              "      const label = document.createElement('label');\n",
              "      label.textContent = `Downloading \"${filename}\": `;\n",
              "      div.appendChild(label);\n",
              "      const progress = document.createElement('progress');\n",
              "      progress.max = size;\n",
              "      div.appendChild(progress);\n",
              "      document.body.appendChild(div);\n",
              "\n",
              "      const buffers = [];\n",
              "      let downloaded = 0;\n",
              "\n",
              "      const channel = await google.colab.kernel.comms.open(id);\n",
              "      // Send a message to notify the kernel that we're ready.\n",
              "      channel.send({})\n",
              "\n",
              "      for await (const message of channel.messages) {\n",
              "        // Send a message to notify the kernel that we're ready.\n",
              "        channel.send({})\n",
              "        if (message.buffers) {\n",
              "          for (const buffer of message.buffers) {\n",
              "            buffers.push(buffer);\n",
              "            downloaded += buffer.byteLength;\n",
              "            progress.value = downloaded;\n",
              "          }\n",
              "        }\n",
              "      }\n",
              "      const blob = new Blob(buffers, {type: 'application/binary'});\n",
              "      const a = document.createElement('a');\n",
              "      a.href = window.URL.createObjectURL(blob);\n",
              "      a.download = filename;\n",
              "      div.appendChild(a);\n",
              "      a.click();\n",
              "      div.remove();\n",
              "    }\n",
              "  "
            ]
          },
          "metadata": {}
        },
        {
          "output_type": "display_data",
          "data": {
            "text/plain": [
              "<IPython.core.display.Javascript object>"
            ],
            "application/javascript": [
              "download(\"download_eb34e694-b576-4d80-b183-42478cbd4f76\", \"fraud_risk_pipeline.pkl\", 3273323)"
            ]
          },
          "metadata": {}
        },
        {
          "output_type": "display_data",
          "data": {
            "text/plain": [
              "<IPython.core.display.Javascript object>"
            ],
            "application/javascript": [
              "\n",
              "    async function download(id, filename, size) {\n",
              "      if (!google.colab.kernel.accessAllowed) {\n",
              "        return;\n",
              "      }\n",
              "      const div = document.createElement('div');\n",
              "      const label = document.createElement('label');\n",
              "      label.textContent = `Downloading \"${filename}\": `;\n",
              "      div.appendChild(label);\n",
              "      const progress = document.createElement('progress');\n",
              "      progress.max = size;\n",
              "      div.appendChild(progress);\n",
              "      document.body.appendChild(div);\n",
              "\n",
              "      const buffers = [];\n",
              "      let downloaded = 0;\n",
              "\n",
              "      const channel = await google.colab.kernel.comms.open(id);\n",
              "      // Send a message to notify the kernel that we're ready.\n",
              "      channel.send({})\n",
              "\n",
              "      for await (const message of channel.messages) {\n",
              "        // Send a message to notify the kernel that we're ready.\n",
              "        channel.send({})\n",
              "        if (message.buffers) {\n",
              "          for (const buffer of message.buffers) {\n",
              "            buffers.push(buffer);\n",
              "            downloaded += buffer.byteLength;\n",
              "            progress.value = downloaded;\n",
              "          }\n",
              "        }\n",
              "      }\n",
              "      const blob = new Blob(buffers, {type: 'application/binary'});\n",
              "      const a = document.createElement('a');\n",
              "      a.href = window.URL.createObjectURL(blob);\n",
              "      a.download = filename;\n",
              "      div.appendChild(a);\n",
              "      a.click();\n",
              "      div.remove();\n",
              "    }\n",
              "  "
            ]
          },
          "metadata": {}
        },
        {
          "output_type": "display_data",
          "data": {
            "text/plain": [
              "<IPython.core.display.Javascript object>"
            ],
            "application/javascript": [
              "download(\"download_acddb0cc-3a60-45ed-ace0-2285d871cdc1\", \"median_values.pkl\", 1920)"
            ]
          },
          "metadata": {}
        }
      ]
    },
    {
      "cell_type": "code",
      "source": [
        "import json\n",
        "\n",
        "threshold = best_threshold\n",
        "with open(\"threshold.json\", \"w\") as f:\n",
        "    json.dump({\"threshold\": threshold}, f)"
      ],
      "metadata": {
        "id": "iP--L3ME4wco"
      },
      "execution_count": 64,
      "outputs": []
    },
    {
      "cell_type": "code",
      "source": [
        "best_threshold"
      ],
      "metadata": {
        "colab": {
          "base_uri": "https://localhost:8080/"
        },
        "id": "eZ072zUPAylE",
        "outputId": "6b42695a-421e-4b54-ded7-ccaa5f310d09"
      },
      "execution_count": 65,
      "outputs": [
        {
          "output_type": "execute_result",
          "data": {
            "text/plain": [
              "np.float64(0.9821392069976014)"
            ]
          },
          "metadata": {},
          "execution_count": 65
        }
      ]
    },
    {
      "cell_type": "code",
      "source": [
        "#Download to your local machine\n",
        "from google.colab import files\n",
        "\n",
        "# Download the json\n",
        "files.download(\"threshold.json\")"
      ],
      "metadata": {
        "colab": {
          "base_uri": "https://localhost:8080/",
          "height": 17
        },
        "id": "MjTM-ai0AncG",
        "outputId": "cc33fe3a-796b-463c-d3e4-5bf59441dfa9"
      },
      "execution_count": 66,
      "outputs": [
        {
          "output_type": "display_data",
          "data": {
            "text/plain": [
              "<IPython.core.display.Javascript object>"
            ],
            "application/javascript": [
              "\n",
              "    async function download(id, filename, size) {\n",
              "      if (!google.colab.kernel.accessAllowed) {\n",
              "        return;\n",
              "      }\n",
              "      const div = document.createElement('div');\n",
              "      const label = document.createElement('label');\n",
              "      label.textContent = `Downloading \"${filename}\": `;\n",
              "      div.appendChild(label);\n",
              "      const progress = document.createElement('progress');\n",
              "      progress.max = size;\n",
              "      div.appendChild(progress);\n",
              "      document.body.appendChild(div);\n",
              "\n",
              "      const buffers = [];\n",
              "      let downloaded = 0;\n",
              "\n",
              "      const channel = await google.colab.kernel.comms.open(id);\n",
              "      // Send a message to notify the kernel that we're ready.\n",
              "      channel.send({})\n",
              "\n",
              "      for await (const message of channel.messages) {\n",
              "        // Send a message to notify the kernel that we're ready.\n",
              "        channel.send({})\n",
              "        if (message.buffers) {\n",
              "          for (const buffer of message.buffers) {\n",
              "            buffers.push(buffer);\n",
              "            downloaded += buffer.byteLength;\n",
              "            progress.value = downloaded;\n",
              "          }\n",
              "        }\n",
              "      }\n",
              "      const blob = new Blob(buffers, {type: 'application/binary'});\n",
              "      const a = document.createElement('a');\n",
              "      a.href = window.URL.createObjectURL(blob);\n",
              "      a.download = filename;\n",
              "      div.appendChild(a);\n",
              "      a.click();\n",
              "      div.remove();\n",
              "    }\n",
              "  "
            ]
          },
          "metadata": {}
        },
        {
          "output_type": "display_data",
          "data": {
            "text/plain": [
              "<IPython.core.display.Javascript object>"
            ],
            "application/javascript": [
              "download(\"download_943648cf-ad4e-430f-9760-241173033c02\", \"threshold.json\", 33)"
            ]
          },
          "metadata": {}
        }
      ]
    }
  ]
}